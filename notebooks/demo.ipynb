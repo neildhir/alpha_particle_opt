{
 "cells": [
  {
   "cell_type": "markdown",
   "metadata": {},
   "source": [
    "# Demo notebook for testing all functionality"
   ]
  },
  {
   "cell_type": "code",
   "execution_count": 1,
   "metadata": {},
   "outputs": [],
   "source": [
    "%load_ext autoreload\n",
    "%autoreload 2\n",
    "import sys\n",
    "sys.path.append('.')"
   ]
  },
  {
   "cell_type": "code",
   "execution_count": 4,
   "metadata": {},
   "outputs": [],
   "source": [
    "# Project specific imports\n",
    "from simsopt.mhd import Vmec\n",
    "from simsopt.util.mpi import MpiPartition"
   ]
  },
  {
   "cell_type": "code",
   "execution_count": 8,
   "metadata": {},
   "outputs": [
    {
     "name": "stdout",
     "output_type": "stream",
     "text": [
      "eval_config.py\n",
      "input.LandremanPaul2021_QA\n",
      "input.new_QA_scaling\n",
      "input.nfp2_QA_cold_high_res\n",
      "input.nfp2_QA_cold_high_res_mirror_feasible\n",
      "input.nfp2_QA_high_res\n",
      "input.nfp4_QH_cold_high_res\n",
      "input.nfp4_QH_cold_high_res_mirror_feasible\n",
      "input.nfp4_QH_warm_start_high_res\n",
      "input.nfp5_cold_high_res\n"
     ]
    }
   ],
   "source": [
    "ls ../src/vmec_input_files/input.nfp4_QH_warm_start_high_res"
   ]
  },
  {
   "cell_type": "code",
   "execution_count": null,
   "metadata": {},
   "outputs": [],
   "source": [
    "# TODO: store x0 somewhere once this has finished computing"
   ]
  },
  {
   "cell_type": "code",
   "execution_count": 9,
   "metadata": {},
   "outputs": [],
   "source": [
    "n_partitions = 1\n",
    "mpi = MpiPartition(n_partitions)\n",
    "vmec_input = \"../src/vmec_input_files/input.nfp4_QH_warm_start_high_res\"\n",
    "vmec = Vmec(vmec_input, mpi=mpi, keep_all_files=False, verbose=False)"
   ]
  }
 ],
 "metadata": {
  "kernelspec": {
   "display_name": "fusion",
   "language": "python",
   "name": "python3"
  },
  "language_info": {
   "codemirror_mode": {
    "name": "ipython",
    "version": 3
   },
   "file_extension": ".py",
   "mimetype": "text/x-python",
   "name": "python",
   "nbconvert_exporter": "python",
   "pygments_lexer": "ipython3",
   "version": "3.10.13"
  }
 },
 "nbformat": 4,
 "nbformat_minor": 2
}
